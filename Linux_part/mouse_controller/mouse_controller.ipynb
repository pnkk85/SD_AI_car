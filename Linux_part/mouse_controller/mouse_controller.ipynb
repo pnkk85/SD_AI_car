{
 "cells": [
  {
   "cell_type": "code",
   "execution_count": null,
   "metadata": {},
   "outputs": [],
   "source": [
    "import cv2\n",
    "import numpy as np\n",
    "import matplotlib.pyplot as plt\n",
    "import socket\n",
    "import time"
   ]
  },
  {
   "cell_type": "code",
   "execution_count": null,
   "metadata": {},
   "outputs": [],
   "source": [
    "blank_img = np.zeros(shape=(512,512,3))\n",
    "blank_img.shape"
   ]
  },
  {
   "cell_type": "code",
   "execution_count": null,
   "metadata": {},
   "outputs": [],
   "source": [
    "# variables\n",
    "lmb_pressed = False"
   ]
  },
  {
   "cell_type": "code",
   "execution_count": null,
   "metadata": {},
   "outputs": [],
   "source": [
    "# configure tcp client\n",
    "s = socket.socket()\n",
    "port = 8080\n",
    "s.connect(('127.0.0.1', port))"
   ]
  },
  {
   "cell_type": "code",
   "execution_count": null,
   "metadata": {},
   "outputs": [],
   "source": [
    "# clreate image with rectangles\n",
    "def draw_rectangles(img_arg):\n",
    "    \n",
    "    bgr_img = np.copy(img_arg)\n",
    "    \n",
    "    x_max = int( bgr_img.shape[1] )\n",
    "    y_max = int( bgr_img.shape[0] )\n",
    "    x_ctr = int(x_max/2)\n",
    "    y_ctr = int(y_max/2)\n",
    "    \n",
    "    # draw circle in the center\n",
    "    cv2.circle(bgr_img, center=(x_ctr,y_ctr), radius=10, color=(0, 255, 0), thickness=-1)\n",
    "    \n",
    "    # draw red lines\n",
    "    cv2.line(bgr_img, pt1=(x_ctr, 0), pt2=(x_ctr, y_max), color=(0,0,255), thickness=1)\n",
    "    cv2.line(bgr_img, pt1=(0, y_ctr), pt2=(x_max, y_ctr), color=(0,0,255), thickness=1)\n",
    "    \n",
    "    # draw rectangles\n",
    "    cv2.rectangle(bgr_img,\n",
    "                 pt1=( int((4/5)*x_ctr), int((4/5)*y_ctr)),\n",
    "                 pt2=( int((6/5)*x_ctr), int((6/5)*y_ctr)),\n",
    "                 color=(150,150,150),\n",
    "                 thickness=2)\n",
    "    \n",
    "    cv2.rectangle(bgr_img,\n",
    "                 pt1=( int((3/5)*x_ctr), int((3/5)*y_ctr)),\n",
    "                 pt2=( int((7/5)*x_ctr), int((7/5)*y_ctr)),\n",
    "                 color=(150,150,150),\n",
    "                 thickness=2)\n",
    "    \n",
    "    cv2.rectangle(bgr_img,\n",
    "                 pt1=( int((2/5)*x_ctr), int((2/5)*y_ctr)),\n",
    "                 pt2=( int((8/5)*x_ctr), int((8/5)*y_ctr)),\n",
    "                 color=(150,150,150),\n",
    "                 thickness=2)\n",
    "    \n",
    "    cv2.rectangle(bgr_img,\n",
    "                 pt1=( int((1/5)*x_ctr), int((1/5)*y_ctr)),\n",
    "                 pt2=( int((9/5)*x_ctr), int((9/5)*y_ctr)),\n",
    "                 color=(150,0,0),\n",
    "                 thickness=2)\n",
    "    \n",
    "    \n",
    "    return bgr_img"
   ]
  },
  {
   "cell_type": "code",
   "execution_count": null,
   "metadata": {},
   "outputs": [],
   "source": [
    "# calculation of timer ticks for STM32\n",
    "# temporary solution to avoid changes in FreeRTOS\n",
    "def send_st_temp_solution(steer, throttle):\n",
    "    \n",
    "    s_min = 1960\n",
    "    s_max = 2730\n",
    "    \n",
    "    t_min = 1895\n",
    "    t_max = 3120\n",
    "    \n",
    "    # from y = ax + b \n",
    "    s_result = int( ((s_max-s_min)/100)*steer + s_min)\n",
    "    t_result = int( ((t_min-t_max)/100)*throttle + t_max)\n",
    "    \n",
    "    msg = 's' + str(s_result) + 't' + str(t_result)\n",
    "    \n",
    "    s.send(bytes(str(msg), 'utf8'))\n",
    "    \n",
    "    print('\\r',msg, end='')\n",
    "    "
   ]
  },
  {
   "cell_type": "code",
   "execution_count": null,
   "metadata": {},
   "outputs": [],
   "source": [
    "# calculate x and y from mouse position\n",
    "def get_st(x, y, img_shape):\n",
    "    \n",
    "    x_ctr = int(img_shape[1]/2)\n",
    "    y_ctr = int(img_shape[0]/2)\n",
    "    max_value = 100\n",
    "    \n",
    "    # min = 0 at 1/5 of the distance btw. ctr and frame\n",
    "    x_min = int((1/5)*x_ctr)\n",
    "    y_min = int((1/5)*y_ctr)\n",
    "    \n",
    "    # max = 100 at 9/5 of the distance btw. ctr and frame\n",
    "    x_max = int((9/5)*x_ctr)\n",
    "    y_max = int((9/5)*y_ctr)\n",
    "    \n",
    "    # controller resolution: 0 to max_value\n",
    "    res = max_value/2\n",
    "    steer = int(res*(x - x_min)/(x_ctr - x_min))\n",
    "    throttle = int(res*(y - y_max)/(y_ctr - y_max))\n",
    "    \n",
    "    if throttle >= res*2:\n",
    "        throttle  = int(res*2 - 1)\n",
    "    elif throttle  < 0:\n",
    "        throttle  = 0\n",
    "    \n",
    "    if steer >= res*2:\n",
    "        steer = int(res*2 - 1)\n",
    "    elif steer < 0:\n",
    "        steer = 0\n",
    "    \n",
    "    send_st_temp_solution(steer, throttle)\n",
    "    \n",
    "    "
   ]
  },
  {
   "cell_type": "code",
   "execution_count": null,
   "metadata": {},
   "outputs": [],
   "source": [
    "# draw circle using mouse events\n",
    "def draw_circle(event, x, y, flags, param):\n",
    "    \n",
    "    time.sleep(0.03)\n",
    "    \n",
    "    global lmb_pressed, img\n",
    "    x_ctr = int(img.shape[1]/2)\n",
    "    y_ctr = int(img.shape[0]/2)\n",
    "    \n",
    "    if event == cv2.EVENT_LBUTTONDOWN:\n",
    "        lmb_pressed = True\n",
    "        img = rect_img.copy()\n",
    "        cv2.circle(img, center=(x_ctr,y_ctr), radius=10, color=(0, 0, 0), thickness=-1)\n",
    "        cv2.circle(img, center=(x,y), radius=10, color=(0, 255, 0), thickness=-1)\n",
    "        #print('\\r',x, y, sep=' ', end='')\n",
    "        get_st(x, y, img.shape)\n",
    "    \n",
    "    elif event == cv2.EVENT_LBUTTONUP:\n",
    "        lmb_pressed = False\n",
    "        img = rect_img.copy()\n",
    "        cv2.circle(img, center=(x_ctr,y_ctr), radius=10, color=(0, 255, 0), thickness=-1)\n",
    "        get_st(x_ctr, y_ctr, img.shape)\n",
    "        get_st(x_ctr, y_ctr, img.shape)\n",
    "        get_st(x_ctr, y_ctr, img.shape)\n",
    "    \n",
    "    elif event == cv2.EVENT_MOUSEMOVE:\n",
    "        if lmb_pressed == True:\n",
    "            img = rect_img.copy()\n",
    "            cv2.circle(img, center=(x_ctr,y_ctr), radius=10, color=(0, 0, 0), thickness=-1)\n",
    "            cv2.circle(img, center=(x,y), radius=10, color=(0,255,0), thickness=-1)\n",
    "            #print('\\r',x, y, sep=' ', end='')\n",
    "            get_st(x, y, img.shape)\n",
    "                    \n"
   ]
  },
  {
   "cell_type": "code",
   "execution_count": null,
   "metadata": {},
   "outputs": [],
   "source": [
    "rect_img = draw_rectangles(blank_img)\n",
    "\n",
    "# connect to call back\n",
    "cv2.namedWindow('RC_control')\n",
    "cv2.setMouseCallback('RC_control', draw_circle)\n",
    "\n",
    "img = rect_img.copy()\n",
    "\n",
    "while True:\n",
    "    cv2.imshow('RC_control', img)\n",
    "    if cv2.waitKey(20) & 0xFF == ord('q'):\n",
    "        break\n",
    "\n",
    "cv2.destroyAllWindows()"
   ]
  },
  {
   "cell_type": "code",
   "execution_count": null,
   "metadata": {},
   "outputs": [],
   "source": []
  },
  {
   "cell_type": "code",
   "execution_count": null,
   "metadata": {},
   "outputs": [],
   "source": []
  }
 ],
 "metadata": {
  "kernelspec": {
   "display_name": "Python 3",
   "language": "python",
   "name": "python3"
  },
  "language_info": {
   "codemirror_mode": {
    "name": "ipython",
    "version": 3
   },
   "file_extension": ".py",
   "mimetype": "text/x-python",
   "name": "python",
   "nbconvert_exporter": "python",
   "pygments_lexer": "ipython3",
   "version": "3.7.6"
  }
 },
 "nbformat": 4,
 "nbformat_minor": 4
}
